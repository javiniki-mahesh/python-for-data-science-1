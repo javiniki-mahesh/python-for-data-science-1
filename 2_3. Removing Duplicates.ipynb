{
 "cells": [
  {
   "cell_type": "markdown",
   "id": "d54652c7",
   "metadata": {},
   "source": [
    "# Removing duplicates"
   ]
  },
  {
   "cell_type": "code",
   "execution_count": 1,
   "id": "cb54e27e",
   "metadata": {},
   "outputs": [],
   "source": [
    "from pandas import DataFrame, Series"
   ]
  },
  {
   "cell_type": "code",
   "execution_count": 2,
   "id": "d131c6fc",
   "metadata": {},
   "outputs": [
    {
     "data": {
      "text/html": [
       "<div>\n",
       "<style scoped>\n",
       "    .dataframe tbody tr th:only-of-type {\n",
       "        vertical-align: middle;\n",
       "    }\n",
       "\n",
       "    .dataframe tbody tr th {\n",
       "        vertical-align: top;\n",
       "    }\n",
       "\n",
       "    .dataframe thead th {\n",
       "        text-align: right;\n",
       "    }\n",
       "</style>\n",
       "<table border=\"1\" class=\"dataframe\">\n",
       "  <thead>\n",
       "    <tr style=\"text-align: right;\">\n",
       "      <th></th>\n",
       "      <th>col 1</th>\n",
       "      <th>col 2</th>\n",
       "      <th>col 3</th>\n",
       "    </tr>\n",
       "  </thead>\n",
       "  <tbody>\n",
       "    <tr>\n",
       "      <th>0</th>\n",
       "      <td>1</td>\n",
       "      <td>a</td>\n",
       "      <td>A</td>\n",
       "    </tr>\n",
       "    <tr>\n",
       "      <th>1</th>\n",
       "      <td>2</td>\n",
       "      <td>b</td>\n",
       "      <td>B</td>\n",
       "    </tr>\n",
       "    <tr>\n",
       "      <th>2</th>\n",
       "      <td>2</td>\n",
       "      <td>b</td>\n",
       "      <td>B</td>\n",
       "    </tr>\n",
       "    <tr>\n",
       "      <th>3</th>\n",
       "      <td>4</td>\n",
       "      <td>d</td>\n",
       "      <td>D</td>\n",
       "    </tr>\n",
       "    <tr>\n",
       "      <th>4</th>\n",
       "      <td>5</td>\n",
       "      <td>e</td>\n",
       "      <td>E</td>\n",
       "    </tr>\n",
       "    <tr>\n",
       "      <th>5</th>\n",
       "      <td>5</td>\n",
       "      <td>e</td>\n",
       "      <td>E</td>\n",
       "    </tr>\n",
       "    <tr>\n",
       "      <th>6</th>\n",
       "      <td>7</td>\n",
       "      <td>g</td>\n",
       "      <td>G</td>\n",
       "    </tr>\n",
       "    <tr>\n",
       "      <th>7</th>\n",
       "      <td>7</td>\n",
       "      <td>g</td>\n",
       "      <td>G</td>\n",
       "    </tr>\n",
       "  </tbody>\n",
       "</table>\n",
       "</div>"
      ],
      "text/plain": [
       "   col 1 col 2 col 3\n",
       "0      1     a     A\n",
       "1      2     b     B\n",
       "2      2     b     B\n",
       "3      4     d     D\n",
       "4      5     e     E\n",
       "5      5     e     E\n",
       "6      7     g     G\n",
       "7      7     g     G"
      ]
     },
     "execution_count": 2,
     "metadata": {},
     "output_type": "execute_result"
    }
   ],
   "source": [
    "df = DataFrame({'col 1' : [1,2,2,4,5,5,7,7],\n",
    "               'col 2': ['a', 'b', 'b', 'd', 'e', 'e', 'g', 'g'],\n",
    "               'col 3': ['A', 'B', 'B', 'D', 'E', 'E', 'G', 'G']})\n",
    "df"
   ]
  },
  {
   "cell_type": "code",
   "execution_count": 3,
   "id": "e6a7d3f9",
   "metadata": {},
   "outputs": [
    {
     "data": {
      "text/plain": [
       "0    False\n",
       "1    False\n",
       "2     True\n",
       "3    False\n",
       "4    False\n",
       "5     True\n",
       "6    False\n",
       "7     True\n",
       "dtype: bool"
      ]
     },
     "execution_count": 3,
     "metadata": {},
     "output_type": "execute_result"
    }
   ],
   "source": [
    "df.duplicated()"
   ]
  },
  {
   "cell_type": "code",
   "execution_count": 4,
   "id": "c0232f2b",
   "metadata": {},
   "outputs": [
    {
     "name": "stdout",
     "output_type": "stream",
     "text": [
      "col 1    2\n",
      "col 2    b\n",
      "col 3    B\n",
      "Name: 2, dtype: object\n",
      "col 1    5\n",
      "col 2    e\n",
      "col 3    E\n",
      "Name: 5, dtype: object\n",
      "col 1    7\n",
      "col 2    g\n",
      "col 3    G\n",
      "Name: 7, dtype: object\n"
     ]
    }
   ],
   "source": [
    "# getting rows which are duplicated\n",
    "dup_df = df.duplicated()\n",
    "for dup in range(len(dup_df)):\n",
    "    if dup_df[dup]:\n",
    "        print(df.loc[dup])\n",
    "# we got the same rows which are duplicate in the df"
   ]
  },
  {
   "cell_type": "code",
   "execution_count": 5,
   "id": "b3690dc6",
   "metadata": {},
   "outputs": [
    {
     "data": {
      "text/html": [
       "<div>\n",
       "<style scoped>\n",
       "    .dataframe tbody tr th:only-of-type {\n",
       "        vertical-align: middle;\n",
       "    }\n",
       "\n",
       "    .dataframe tbody tr th {\n",
       "        vertical-align: top;\n",
       "    }\n",
       "\n",
       "    .dataframe thead th {\n",
       "        text-align: right;\n",
       "    }\n",
       "</style>\n",
       "<table border=\"1\" class=\"dataframe\">\n",
       "  <thead>\n",
       "    <tr style=\"text-align: right;\">\n",
       "      <th></th>\n",
       "      <th>col 1</th>\n",
       "      <th>col 2</th>\n",
       "      <th>col 3</th>\n",
       "    </tr>\n",
       "  </thead>\n",
       "  <tbody>\n",
       "    <tr>\n",
       "      <th>0</th>\n",
       "      <td>1</td>\n",
       "      <td>a</td>\n",
       "      <td>A</td>\n",
       "    </tr>\n",
       "    <tr>\n",
       "      <th>1</th>\n",
       "      <td>2</td>\n",
       "      <td>b</td>\n",
       "      <td>B</td>\n",
       "    </tr>\n",
       "    <tr>\n",
       "      <th>3</th>\n",
       "      <td>4</td>\n",
       "      <td>d</td>\n",
       "      <td>D</td>\n",
       "    </tr>\n",
       "    <tr>\n",
       "      <th>4</th>\n",
       "      <td>5</td>\n",
       "      <td>e</td>\n",
       "      <td>E</td>\n",
       "    </tr>\n",
       "    <tr>\n",
       "      <th>6</th>\n",
       "      <td>7</td>\n",
       "      <td>g</td>\n",
       "      <td>G</td>\n",
       "    </tr>\n",
       "  </tbody>\n",
       "</table>\n",
       "</div>"
      ],
      "text/plain": [
       "   col 1 col 2 col 3\n",
       "0      1     a     A\n",
       "1      2     b     B\n",
       "3      4     d     D\n",
       "4      5     e     E\n",
       "6      7     g     G"
      ]
     },
     "execution_count": 5,
     "metadata": {},
     "output_type": "execute_result"
    }
   ],
   "source": [
    "df_row_duplicates = df.drop_duplicates()\n",
    "df_row_duplicates"
   ]
  },
  {
   "cell_type": "code",
   "execution_count": 6,
   "id": "0bd2f2d0",
   "metadata": {},
   "outputs": [
    {
     "data": {
      "text/html": [
       "<div>\n",
       "<style scoped>\n",
       "    .dataframe tbody tr th:only-of-type {\n",
       "        vertical-align: middle;\n",
       "    }\n",
       "\n",
       "    .dataframe tbody tr th {\n",
       "        vertical-align: top;\n",
       "    }\n",
       "\n",
       "    .dataframe thead th {\n",
       "        text-align: right;\n",
       "    }\n",
       "</style>\n",
       "<table border=\"1\" class=\"dataframe\">\n",
       "  <thead>\n",
       "    <tr style=\"text-align: right;\">\n",
       "      <th></th>\n",
       "      <th>col 1</th>\n",
       "      <th>col 2</th>\n",
       "      <th>col 3</th>\n",
       "    </tr>\n",
       "  </thead>\n",
       "  <tbody>\n",
       "    <tr>\n",
       "      <th>0</th>\n",
       "      <td>1</td>\n",
       "      <td>a</td>\n",
       "      <td>A</td>\n",
       "    </tr>\n",
       "    <tr>\n",
       "      <th>1</th>\n",
       "      <td>2</td>\n",
       "      <td>b</td>\n",
       "      <td>B</td>\n",
       "    </tr>\n",
       "    <tr>\n",
       "      <th>2</th>\n",
       "      <td>2</td>\n",
       "      <td>b</td>\n",
       "      <td>B</td>\n",
       "    </tr>\n",
       "    <tr>\n",
       "      <th>3</th>\n",
       "      <td>4</td>\n",
       "      <td>d</td>\n",
       "      <td>D</td>\n",
       "    </tr>\n",
       "    <tr>\n",
       "      <th>4</th>\n",
       "      <td>5</td>\n",
       "      <td>e</td>\n",
       "      <td>E</td>\n",
       "    </tr>\n",
       "    <tr>\n",
       "      <th>5</th>\n",
       "      <td>5</td>\n",
       "      <td>e</td>\n",
       "      <td>E</td>\n",
       "    </tr>\n",
       "    <tr>\n",
       "      <th>6</th>\n",
       "      <td>7</td>\n",
       "      <td>g</td>\n",
       "      <td>G</td>\n",
       "    </tr>\n",
       "    <tr>\n",
       "      <th>7</th>\n",
       "      <td>8</td>\n",
       "      <td>h</td>\n",
       "      <td>G</td>\n",
       "    </tr>\n",
       "  </tbody>\n",
       "</table>\n",
       "</div>"
      ],
      "text/plain": [
       "   col 1 col 2 col 3\n",
       "0      1     a     A\n",
       "1      2     b     B\n",
       "2      2     b     B\n",
       "3      4     d     D\n",
       "4      5     e     E\n",
       "5      5     e     E\n",
       "6      7     g     G\n",
       "7      8     h     G"
      ]
     },
     "execution_count": 6,
     "metadata": {},
     "output_type": "execute_result"
    }
   ],
   "source": [
    "df1 = DataFrame({'col 1' : [1,2,2,4,5,5,7,8],\n",
    "               'col 2': ['a', 'b', 'b', 'd', 'e', 'e', 'g', 'h'],\n",
    "               'col 3': ['A', 'B', 'B', 'D', 'E', 'E', 'G', 'G']})\n",
    "df1"
   ]
  },
  {
   "cell_type": "code",
   "execution_count": 7,
   "id": "cdf2a35e",
   "metadata": {},
   "outputs": [
    {
     "data": {
      "text/html": [
       "<div>\n",
       "<style scoped>\n",
       "    .dataframe tbody tr th:only-of-type {\n",
       "        vertical-align: middle;\n",
       "    }\n",
       "\n",
       "    .dataframe tbody tr th {\n",
       "        vertical-align: top;\n",
       "    }\n",
       "\n",
       "    .dataframe thead th {\n",
       "        text-align: right;\n",
       "    }\n",
       "</style>\n",
       "<table border=\"1\" class=\"dataframe\">\n",
       "  <thead>\n",
       "    <tr style=\"text-align: right;\">\n",
       "      <th></th>\n",
       "      <th>col 1</th>\n",
       "      <th>col 2</th>\n",
       "      <th>col 3</th>\n",
       "    </tr>\n",
       "  </thead>\n",
       "  <tbody>\n",
       "    <tr>\n",
       "      <th>0</th>\n",
       "      <td>1</td>\n",
       "      <td>a</td>\n",
       "      <td>A</td>\n",
       "    </tr>\n",
       "    <tr>\n",
       "      <th>1</th>\n",
       "      <td>2</td>\n",
       "      <td>b</td>\n",
       "      <td>B</td>\n",
       "    </tr>\n",
       "    <tr>\n",
       "      <th>3</th>\n",
       "      <td>4</td>\n",
       "      <td>d</td>\n",
       "      <td>D</td>\n",
       "    </tr>\n",
       "    <tr>\n",
       "      <th>4</th>\n",
       "      <td>5</td>\n",
       "      <td>e</td>\n",
       "      <td>E</td>\n",
       "    </tr>\n",
       "    <tr>\n",
       "      <th>6</th>\n",
       "      <td>7</td>\n",
       "      <td>g</td>\n",
       "      <td>G</td>\n",
       "    </tr>\n",
       "  </tbody>\n",
       "</table>\n",
       "</div>"
      ],
      "text/plain": [
       "   col 1 col 2 col 3\n",
       "0      1     a     A\n",
       "1      2     b     B\n",
       "3      4     d     D\n",
       "4      5     e     E\n",
       "6      7     g     G"
      ]
     },
     "execution_count": 7,
     "metadata": {},
     "output_type": "execute_result"
    }
   ],
   "source": [
    "df1.drop_duplicates('col 3')\n",
    "# as in col 3 GG is repeated so it was droped"
   ]
  },
  {
   "cell_type": "code",
   "execution_count": 8,
   "id": "935a36cd",
   "metadata": {},
   "outputs": [
    {
     "data": {
      "text/html": [
       "<div>\n",
       "<style scoped>\n",
       "    .dataframe tbody tr th:only-of-type {\n",
       "        vertical-align: middle;\n",
       "    }\n",
       "\n",
       "    .dataframe tbody tr th {\n",
       "        vertical-align: top;\n",
       "    }\n",
       "\n",
       "    .dataframe thead th {\n",
       "        text-align: right;\n",
       "    }\n",
       "</style>\n",
       "<table border=\"1\" class=\"dataframe\">\n",
       "  <thead>\n",
       "    <tr style=\"text-align: right;\">\n",
       "      <th></th>\n",
       "      <th>col 1</th>\n",
       "      <th>col 2</th>\n",
       "      <th>col 3</th>\n",
       "    </tr>\n",
       "  </thead>\n",
       "  <tbody>\n",
       "    <tr>\n",
       "      <th>0</th>\n",
       "      <td>1</td>\n",
       "      <td>a</td>\n",
       "      <td>A</td>\n",
       "    </tr>\n",
       "    <tr>\n",
       "      <th>1</th>\n",
       "      <td>2</td>\n",
       "      <td>b</td>\n",
       "      <td>B</td>\n",
       "    </tr>\n",
       "    <tr>\n",
       "      <th>3</th>\n",
       "      <td>4</td>\n",
       "      <td>d</td>\n",
       "      <td>D</td>\n",
       "    </tr>\n",
       "    <tr>\n",
       "      <th>4</th>\n",
       "      <td>5</td>\n",
       "      <td>e</td>\n",
       "      <td>E</td>\n",
       "    </tr>\n",
       "    <tr>\n",
       "      <th>6</th>\n",
       "      <td>7</td>\n",
       "      <td>g</td>\n",
       "      <td>G</td>\n",
       "    </tr>\n",
       "    <tr>\n",
       "      <th>7</th>\n",
       "      <td>8</td>\n",
       "      <td>h</td>\n",
       "      <td>G</td>\n",
       "    </tr>\n",
       "  </tbody>\n",
       "</table>\n",
       "</div>"
      ],
      "text/plain": [
       "   col 1 col 2 col 3\n",
       "0      1     a     A\n",
       "1      2     b     B\n",
       "3      4     d     D\n",
       "4      5     e     E\n",
       "6      7     g     G\n",
       "7      8     h     G"
      ]
     },
     "execution_count": 8,
     "metadata": {},
     "output_type": "execute_result"
    }
   ],
   "source": [
    "df1.drop_duplicates('col 2')\n",
    "# in col 2 g h not duplicates so it was there"
   ]
  },
  {
   "cell_type": "markdown",
   "id": "9de307b4",
   "metadata": {},
   "source": [
    "# my use case"
   ]
  },
  {
   "cell_type": "code",
   "execution_count": 9,
   "id": "eda130e9",
   "metadata": {},
   "outputs": [
    {
     "data": {
      "text/html": [
       "<div>\n",
       "<style scoped>\n",
       "    .dataframe tbody tr th:only-of-type {\n",
       "        vertical-align: middle;\n",
       "    }\n",
       "\n",
       "    .dataframe tbody tr th {\n",
       "        vertical-align: top;\n",
       "    }\n",
       "\n",
       "    .dataframe thead th {\n",
       "        text-align: right;\n",
       "    }\n",
       "</style>\n",
       "<table border=\"1\" class=\"dataframe\">\n",
       "  <thead>\n",
       "    <tr style=\"text-align: right;\">\n",
       "      <th></th>\n",
       "      <th>reg id</th>\n",
       "      <th>name</th>\n",
       "      <th>marks</th>\n",
       "    </tr>\n",
       "  </thead>\n",
       "  <tbody>\n",
       "    <tr>\n",
       "      <th>0</th>\n",
       "      <td>1</td>\n",
       "      <td>mahesh</td>\n",
       "      <td>23</td>\n",
       "    </tr>\n",
       "    <tr>\n",
       "      <th>1</th>\n",
       "      <td>2</td>\n",
       "      <td>nani</td>\n",
       "      <td>44</td>\n",
       "    </tr>\n",
       "    <tr>\n",
       "      <th>2</th>\n",
       "      <td>3</td>\n",
       "      <td>kalyan</td>\n",
       "      <td>56</td>\n",
       "    </tr>\n",
       "    <tr>\n",
       "      <th>3</th>\n",
       "      <td>3</td>\n",
       "      <td>mahesh</td>\n",
       "      <td>34</td>\n",
       "    </tr>\n",
       "    <tr>\n",
       "      <th>4</th>\n",
       "      <td>4</td>\n",
       "      <td>aaaa</td>\n",
       "      <td>44</td>\n",
       "    </tr>\n",
       "    <tr>\n",
       "      <th>5</th>\n",
       "      <td>5</td>\n",
       "      <td>bbbb</td>\n",
       "      <td>23</td>\n",
       "    </tr>\n",
       "    <tr>\n",
       "      <th>6</th>\n",
       "      <td>6</td>\n",
       "      <td>aaaa</td>\n",
       "      <td>67</td>\n",
       "    </tr>\n",
       "    <tr>\n",
       "      <th>7</th>\n",
       "      <td>6</td>\n",
       "      <td>cccc</td>\n",
       "      <td>55</td>\n",
       "    </tr>\n",
       "    <tr>\n",
       "      <th>8</th>\n",
       "      <td>7</td>\n",
       "      <td>aaaa</td>\n",
       "      <td>75</td>\n",
       "    </tr>\n",
       "  </tbody>\n",
       "</table>\n",
       "</div>"
      ],
      "text/plain": [
       "   reg id    name  marks\n",
       "0       1  mahesh     23\n",
       "1       2    nani     44\n",
       "2       3  kalyan     56\n",
       "3       3  mahesh     34\n",
       "4       4    aaaa     44\n",
       "5       5    bbbb     23\n",
       "6       6    aaaa     67\n",
       "7       6    cccc     55\n",
       "8       7    aaaa     75"
      ]
     },
     "execution_count": 9,
     "metadata": {},
     "output_type": "execute_result"
    }
   ],
   "source": [
    "std_df = DataFrame({'reg id': [1,2,3,3,4,5,6,6,7],\n",
    "                   'name': ['mahesh','nani','kalyan','mahesh','aaaa','bbbb','aaaa','cccc','aaaa'],\n",
    "                   'marks' : [23,44,56,34,44,23,67,55,75]})\n",
    "std_df"
   ]
  },
  {
   "cell_type": "code",
   "execution_count": 10,
   "id": "6825ae39",
   "metadata": {},
   "outputs": [
    {
     "data": {
      "text/plain": [
       "0    False\n",
       "1    False\n",
       "2    False\n",
       "3    False\n",
       "4    False\n",
       "5    False\n",
       "6    False\n",
       "7    False\n",
       "8    False\n",
       "dtype: bool"
      ]
     },
     "execution_count": 10,
     "metadata": {},
     "output_type": "execute_result"
    }
   ],
   "source": [
    "std_df.duplicated()"
   ]
  },
  {
   "cell_type": "code",
   "execution_count": 11,
   "id": "b90cd75a",
   "metadata": {},
   "outputs": [
    {
     "name": "stdout",
     "output_type": "stream",
     "text": [
      "   reg id    name  marks\n",
      "0       1  mahesh     23\n",
      "1       2    nani     44\n",
      "2       3  kalyan     56\n",
      "3       3  mahesh     34\n",
      "4       4    aaaa     44\n",
      "5       5    bbbb     23\n",
      "6       6    aaaa     67\n",
      "7       6    cccc     55\n",
      "8       7    aaaa     75\n"
     ]
    },
    {
     "data": {
      "text/plain": [
       "0    False\n",
       "1    False\n",
       "2    False\n",
       "3     True\n",
       "4    False\n",
       "5    False\n",
       "6    False\n",
       "7     True\n",
       "8    False\n",
       "dtype: bool"
      ]
     },
     "execution_count": 11,
     "metadata": {},
     "output_type": "execute_result"
    }
   ],
   "source": [
    "print(std_df)\n",
    "reg_dup = std_df.duplicated(['reg id'])\n",
    "reg_dup"
   ]
  },
  {
   "cell_type": "code",
   "execution_count": 12,
   "id": "2de6ba46",
   "metadata": {},
   "outputs": [
    {
     "name": "stdout",
     "output_type": "stream",
     "text": [
      "3\n",
      "6\n"
     ]
    }
   ],
   "source": [
    "# getting the reg_ids which are duplicated\n",
    "for dup_id in range(len(std_df)):\n",
    "    if reg_dup[dup_id]:\n",
    "        print(std_df['reg id'][dup_id])\n",
    "# reg nos 3 and 6 got duplicated \n",
    "# likewise we can do the same process for reamining"
   ]
  },
  {
   "cell_type": "code",
   "execution_count": 13,
   "id": "26970dfc",
   "metadata": {},
   "outputs": [
    {
     "name": "stdout",
     "output_type": "stream",
     "text": [
      "   reg id    name  marks\n",
      "0       1  mahesh     23\n",
      "1       2    nani     44\n",
      "2       3  kalyan     56\n",
      "3       3  mahesh     34\n",
      "4       4    aaaa     44\n",
      "5       5    bbbb     23\n",
      "6       6    aaaa     67\n",
      "7       6    cccc     55\n",
      "8       7    aaaa     75\n"
     ]
    }
   ],
   "source": [
    "print(std_df)\n",
    "name_dup = std_df.duplicated(['name'])"
   ]
  },
  {
   "cell_type": "code",
   "execution_count": 14,
   "id": "2e835967",
   "metadata": {},
   "outputs": [
    {
     "name": "stdout",
     "output_type": "stream",
     "text": [
      "mahesh\n",
      "aaaa\n",
      "aaaa\n"
     ]
    }
   ],
   "source": [
    "# Now we try to find duplicate names\n",
    "for dup in range(len(name_dup)):\n",
    "    if name_dup[dup]:\n",
    "        print(std_df['name'][dup])"
   ]
  },
  {
   "cell_type": "code",
   "execution_count": 15,
   "id": "b020a8c8",
   "metadata": {},
   "outputs": [
    {
     "name": "stdout",
     "output_type": "stream",
     "text": [
      "   reg id    name  marks\n",
      "0       1  mahesh     23\n",
      "1       2    nani     44\n",
      "2       3  kalyan     56\n",
      "3       3  mahesh     34\n",
      "4       4    aaaa     44\n",
      "5       5    bbbb     23\n",
      "6       6    aaaa     67\n",
      "7       6    cccc     55\n",
      "8       7    aaaa     75\n"
     ]
    },
    {
     "data": {
      "text/plain": [
       "0    False\n",
       "1    False\n",
       "2    False\n",
       "3    False\n",
       "4     True\n",
       "5     True\n",
       "6    False\n",
       "7    False\n",
       "8    False\n",
       "dtype: bool"
      ]
     },
     "execution_count": 15,
     "metadata": {},
     "output_type": "execute_result"
    }
   ],
   "source": [
    "print(std_df)\n",
    "std_df.duplicated(['marks'])"
   ]
  },
  {
   "cell_type": "code",
   "execution_count": 16,
   "id": "2d81ce63",
   "metadata": {},
   "outputs": [
    {
     "name": "stdout",
     "output_type": "stream",
     "text": [
      "   reg id    name  marks\n",
      "0       1  mahesh     23\n",
      "1       2    nani     44\n",
      "2       3  kalyan     56\n",
      "4       4    aaaa     44\n",
      "5       5    bbbb     23\n",
      "6       6    aaaa     67\n",
      "8       7    aaaa     75\n",
      "reg id    7\n",
      "name      7\n",
      "marks     7\n",
      "dtype: int64\n"
     ]
    }
   ],
   "source": [
    "unique_reg = std_df.drop_duplicates(['reg id'])\n",
    "print(unique_reg)\n",
    "print(unique_reg.count())"
   ]
  },
  {
   "cell_type": "code",
   "execution_count": 17,
   "id": "c5d937c8",
   "metadata": {},
   "outputs": [
    {
     "name": "stdout",
     "output_type": "stream",
     "text": [
      "   reg id    name  marks\n",
      "0       1  mahesh     23\n",
      "1       2    nani     44\n",
      "2       3  kalyan     56\n",
      "4       4    aaaa     44\n",
      "5       5    bbbb     23\n",
      "7       6    cccc     55\n",
      "reg id    6\n",
      "name      6\n",
      "marks     6\n",
      "dtype: int64\n"
     ]
    }
   ],
   "source": [
    "unique_names = std_df.drop_duplicates(['name'])\n",
    "print(unique_names)\n",
    "print(unique_names.count())"
   ]
  },
  {
   "cell_type": "code",
   "execution_count": 18,
   "id": "e351734b",
   "metadata": {},
   "outputs": [
    {
     "name": "stdout",
     "output_type": "stream",
     "text": [
      "   reg id    name  marks\n",
      "0       1  mahesh     23\n",
      "1       2    nani     44\n",
      "2       3  kalyan     56\n",
      "3       3  mahesh     34\n",
      "6       6    aaaa     67\n",
      "7       6    cccc     55\n",
      "8       7    aaaa     75\n",
      "reg id    7\n",
      "name      7\n",
      "marks     7\n",
      "dtype: int64\n"
     ]
    }
   ],
   "source": [
    "unique_marks = std_df.drop_duplicates(['marks'])\n",
    "print(unique_marks)\n",
    "print(unique_marks.count())"
   ]
  },
  {
   "cell_type": "markdown",
   "id": "f8e0f530",
   "metadata": {},
   "source": [
    "# The End"
   ]
  },
  {
   "cell_type": "code",
   "execution_count": null,
   "id": "993fda11",
   "metadata": {},
   "outputs": [],
   "source": []
  }
 ],
 "metadata": {
  "kernelspec": {
   "display_name": "Python 3 (ipykernel)",
   "language": "python",
   "name": "python3"
  },
  "language_info": {
   "codemirror_mode": {
    "name": "ipython",
    "version": 3
   },
   "file_extension": ".py",
   "mimetype": "text/x-python",
   "name": "python",
   "nbconvert_exporter": "python",
   "pygments_lexer": "ipython3",
   "version": "3.9.12"
  }
 },
 "nbformat": 4,
 "nbformat_minor": 5
}

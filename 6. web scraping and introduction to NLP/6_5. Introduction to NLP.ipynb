{
 "cells": [
  {
   "cell_type": "markdown",
   "id": "9c8886b2",
   "metadata": {},
   "source": [
    "# Introduction to NLP"
   ]
  },
  {
   "cell_type": "code",
   "execution_count": 2,
   "id": "2f3896fd",
   "metadata": {},
   "outputs": [
    {
     "name": "stdout",
     "output_type": "stream",
     "text": [
      "showing info https://raw.githubusercontent.com/nltk/nltk_data/gh-pages/index.xml\n"
     ]
    },
    {
     "data": {
      "text/plain": [
       "True"
      ]
     },
     "execution_count": 2,
     "metadata": {},
     "output_type": "execute_result"
    }
   ],
   "source": [
    "import nltk\n",
    "# nltk.download()"
   ]
  },
  {
   "cell_type": "code",
   "execution_count": 3,
   "id": "f952a1fe",
   "metadata": {},
   "outputs": [],
   "source": [
    "text = \"\"\"On Wednesday,\n",
    "the Association for Computing Machinery,\n",
    "the world’s largest society of computing professionals,\n",
    "announced that Hinton,LeCun and Bengio had won this year’s Turing Award for their work on neural networks.\n",
    "The Turing Award, which was introduced in 1966, is often called the Nobel Prize of computing, and it includes a $1 million prize,\n",
    "which the three scientists will share.\"\"\"\n",
    "plane_text = text.replace('\\n',' ')"
   ]
  },
  {
   "cell_type": "code",
   "execution_count": 4,
   "id": "cf152d9b",
   "metadata": {},
   "outputs": [
    {
     "name": "stdout",
     "output_type": "stream",
     "text": [
      "On Wednesday, the Association for Computing Machinery, the world’s largest society of computing professionals, announced that Hinton,LeCun and Bengio had won this year’s Turing Award for their work on neural networks. The Turing Award, which was introduced in 1966, is often called the Nobel Prize of computing, and it includes a $1 million prize, which the three scientists will share.\n"
     ]
    }
   ],
   "source": [
    "print(plane_text)"
   ]
  },
  {
   "cell_type": "markdown",
   "id": "aff7f669",
   "metadata": {},
   "source": [
    "## Sentensce Tokenizer"
   ]
  },
  {
   "cell_type": "code",
   "execution_count": 5,
   "id": "98f4268f",
   "metadata": {},
   "outputs": [
    {
     "name": "stdout",
     "output_type": "stream",
     "text": [
      "Sentence tokenizing the text: \n",
      "\n",
      " ['On Wednesday, the Association for Computing Machinery, the world’s largest society of computing professionals, announced that Hinton,LeCun and Bengio had won this year’s Turing Award for their work on neural networks.', 'The Turing Award, which was introduced in 1966, is often called the Nobel Prize of computing, and it includes a $1 million prize, which the three scientists will share.']\n"
     ]
    }
   ],
   "source": [
    "from nltk.tokenize import sent_tokenize\n",
    "sent_token = sent_tokenize(plane_text)\n",
    "print(\"Sentence tokenizing the text: \\n\\n\",sent_token)\n",
    "# list of sentences"
   ]
  },
  {
   "cell_type": "code",
   "execution_count": 6,
   "id": "3b88cce6",
   "metadata": {},
   "outputs": [
    {
     "name": "stdout",
     "output_type": "stream",
     "text": [
      "On Wednesday, the Association for Computing Machinery, the world’s largest society of computing professionals, announced that Hinton,LeCun and Bengio had won this year’s Turing Award for their work on neural networks.\n",
      "\n",
      "The Turing Award, which was introduced in 1966, is often called the Nobel Prize of computing, and it includes a $1 million prize, which the three scientists will share.\n",
      "\n"
     ]
    }
   ],
   "source": [
    "for i in sent_token:\n",
    "    print(i,end = '\\n\\n')\n",
    "# There are only 2 sentences in the paragraph"
   ]
  },
  {
   "cell_type": "code",
   "execution_count": 7,
   "id": "0400dcb4",
   "metadata": {},
   "outputs": [
    {
     "name": "stdout",
     "output_type": "stream",
     "text": [
      "List of sentences : \n",
      "['On Wednesday, the Association for Computing Machinery, the world’s largest society of computing professionals, announced that Hinton,LeCun and Bengio had won this year’s Turing Award for their work on neural networks', ' The Turing Award, which was introduced in 1966, is often called the Nobel Prize of computing, and it includes a $1 million prize, which the three scientists will share']\n",
      "\n",
      "2\n",
      "On Wednesday, the Association for Computing Machinery, the world’s largest society of computing professionals, announced that Hinton,LeCun and Bengio had won this year’s Turing Award for their work on neural networks.\n",
      "\n",
      " The Turing Award, which was introduced in 1966, is often called the Nobel Prize of computing, and it includes a $1 million prize, which the three scientists will share.\n",
      "\n"
     ]
    }
   ],
   "source": [
    "# possible logic\n",
    "list_sent = plane_text.strip('.').split('.')\n",
    "print(\"List of sentences : \",list_sent,sep = '\\n',end = '\\n\\n')\n",
    "print(len(list_sent))\n",
    "for i in list_sent:\n",
    "    print(i+'.',end = '\\n\\n')"
   ]
  },
  {
   "cell_type": "markdown",
   "id": "b62f98b1",
   "metadata": {},
   "source": [
    "## Word Tokenizer"
   ]
  },
  {
   "cell_type": "code",
   "execution_count": 8,
   "id": "5c022d54",
   "metadata": {},
   "outputs": [
    {
     "name": "stdout",
     "output_type": "stream",
     "text": [
      "Word tokenizing text :\n",
      "['On', 'Wednesday', ',', 'the', 'Association', 'for', 'Computing', 'Machinery', ',', 'the', 'world', '’', 's', 'largest', 'society', 'of', 'computing', 'professionals', ',', 'announced', 'that', 'Hinton', ',', 'LeCun', 'and', 'Bengio', 'had', 'won', 'this', 'year', '’', 's', 'Turing', 'Award', 'for', 'their', 'work', 'on', 'neural', 'networks', '.', 'The', 'Turing', 'Award', ',', 'which', 'was', 'introduced', 'in', '1966', ',', 'is', 'often', 'called', 'the', 'Nobel', 'Prize', 'of', 'computing', ',', 'and', 'it', 'includes', 'a', '$', '1', 'million', 'prize', ',', 'which', 'the', 'three', 'scientists', 'will', 'share', '.']\n"
     ]
    }
   ],
   "source": [
    "from nltk import word_tokenize\n",
    "word_token = word_tokenize(plane_text)\n",
    "print(\"Word tokenizing text :\",word_token,sep = '\\n')"
   ]
  },
  {
   "cell_type": "code",
   "execution_count": 9,
   "id": "47a620a1",
   "metadata": {},
   "outputs": [
    {
     "name": "stdout",
     "output_type": "stream",
     "text": [
      "On\n",
      "Wednesday\n",
      ",\n",
      "the\n",
      "Association\n",
      "for\n",
      "Computing\n",
      "Machinery\n",
      ",\n",
      "the\n",
      "world\n",
      "’\n",
      "s\n",
      "largest\n",
      "society\n",
      "of\n",
      "computing\n",
      "professionals\n",
      ",\n",
      "announced\n",
      "that\n",
      "Hinton\n",
      ",\n",
      "LeCun\n",
      "and\n",
      "Bengio\n",
      "had\n",
      "won\n",
      "this\n",
      "year\n",
      "’\n",
      "s\n",
      "Turing\n",
      "Award\n",
      "for\n",
      "their\n",
      "work\n",
      "on\n",
      "neural\n",
      "networks\n",
      ".\n",
      "The\n",
      "Turing\n",
      "Award\n",
      ",\n",
      "which\n",
      "was\n",
      "introduced\n",
      "in\n",
      "1966\n",
      ",\n",
      "is\n",
      "often\n",
      "called\n",
      "the\n",
      "Nobel\n",
      "Prize\n",
      "of\n",
      "computing\n",
      ",\n",
      "and\n",
      "it\n",
      "includes\n",
      "a\n",
      "$\n",
      "1\n",
      "million\n",
      "prize\n",
      ",\n",
      "which\n",
      "the\n",
      "three\n",
      "scientists\n",
      "will\n",
      "share\n",
      ".\n"
     ]
    }
   ],
   "source": [
    "for i in word_token: print(i)"
   ]
  },
  {
   "cell_type": "code",
   "execution_count": 10,
   "id": "8b1c4754",
   "metadata": {},
   "outputs": [
    {
     "name": "stdout",
     "output_type": "stream",
     "text": [
      "R\n",
      ",\n",
      "R.R\n",
      "i\n",
      "@\n",
      "s\n",
      "a\n",
      "v\n",
      "$\n",
      "er/y\n",
      "g\\o\n",
      "]\n",
      "od\n",
      "m=o-vie\n"
     ]
    }
   ],
   "source": [
    "com = word_tokenize('R,R.R i@s a v$er/y g\\o]od m=o-vie')\n",
    "for i in com:print(i)"
   ]
  },
  {
   "cell_type": "code",
   "execution_count": 11,
   "id": "1863cdbb",
   "metadata": {},
   "outputs": [
    {
     "name": "stdout",
     "output_type": "stream",
     "text": [
      "a\n",
      "!\n",
      "b\n",
      "@\n",
      "c\n",
      "#\n",
      "d\n",
      "$\n",
      "e\n",
      "%\n",
      "f^g\n",
      "&\n",
      "h\n",
      "*\n",
      "i\n",
      "(\n",
      "j\n",
      ")\n",
      "k_l+m\n",
      "{\n",
      "n\n",
      "}\n",
      "o\n",
      ":\n",
      "p\\q\n",
      "<\n",
      "r\n",
      ">\n",
      "s\n",
      "?\n",
      "t\n",
      ",\n",
      "u.v/w\n"
     ]
    }
   ],
   "source": [
    "special = \"a!b@c#d$e%f^g&h*i(j)k_l+m{n}o:p\\q<r>s?t,u.v/w\"\n",
    "for i in word_tokenize(special): print(i)\n",
    "# almost all the special characters are considered as words\n",
    "# except few ^,_,+,.,/,\\\n",
    "\n",
    "# based on our requirement, we could include or remove those special characters as words"
   ]
  },
  {
   "cell_type": "markdown",
   "id": "40e587c9",
   "metadata": {},
   "source": [
    "## Removing stop words"
   ]
  },
  {
   "cell_type": "code",
   "execution_count": 17,
   "id": "82155e9a",
   "metadata": {},
   "outputs": [
    {
     "name": "stdout",
     "output_type": "stream",
     "text": [
      "Stop words: \n",
      "\n",
      " ['i', 'me', 'my', 'myself', 'we', 'our', 'ours', 'ourselves', 'you', \"you're\", \"you've\", \"you'll\", \"you'd\", 'your', 'yours', 'yourself', 'yourselves', 'he', 'him', 'his', 'himself', 'she', \"she's\", 'her', 'hers', 'herself', 'it', \"it's\", 'its', 'itself', 'they', 'them', 'their', 'theirs', 'themselves', 'what', 'which', 'who', 'whom', 'this', 'that', \"that'll\", 'these', 'those', 'am', 'is', 'are', 'was', 'were', 'be', 'been', 'being', 'have', 'has', 'had', 'having', 'do', 'does', 'did', 'doing', 'a', 'an', 'the', 'and', 'but', 'if', 'or', 'because', 'as', 'until', 'while', 'of', 'at', 'by', 'for', 'with', 'about', 'against', 'between', 'into', 'through', 'during', 'before', 'after', 'above', 'below', 'to', 'from', 'up', 'down', 'in', 'out', 'on', 'off', 'over', 'under', 'again', 'further', 'then', 'once', 'here', 'there', 'when', 'where', 'why', 'how', 'all', 'any', 'both', 'each', 'few', 'more', 'most', 'other', 'some', 'such', 'no', 'nor', 'not', 'only', 'own', 'same', 'so', 'than', 'too', 'very', 's', 't', 'can', 'will', 'just', 'don', \"don't\", 'should', \"should've\", 'now', 'd', 'll', 'm', 'o', 're', 've', 'y', 'ain', 'aren', \"aren't\", 'couldn', \"couldn't\", 'didn', \"didn't\", 'doesn', \"doesn't\", 'hadn', \"hadn't\", 'hasn', \"hasn't\", 'haven', \"haven't\", 'isn', \"isn't\", 'ma', 'mightn', \"mightn't\", 'mustn', \"mustn't\", 'needn', \"needn't\", 'shan', \"shan't\", 'shouldn', \"shouldn't\", 'wasn', \"wasn't\", 'weren', \"weren't\", 'won', \"won't\", 'wouldn', \"wouldn't\"] \n",
      "\n",
      "No of stop words 179\n"
     ]
    }
   ],
   "source": [
    "from nltk.corpus import stopwords\n",
    "\n",
    "stop_w = stopwords.words('english')\n",
    "print(\"Stop words: \\n\\n\",stop_w,'\\n')\n",
    "print(\"No of stop words\",len(stop_w))"
   ]
  },
  {
   "cell_type": "code",
   "execution_count": 13,
   "id": "da01ef78",
   "metadata": {},
   "outputs": [
    {
     "name": "stdout",
     "output_type": "stream",
     "text": [
      "Words after removing stop words: \n",
      "\n",
      " ['On', 'Wednesday', ',', 'Association', 'Computing', 'Machinery', ',', 'world', '’', 'largest', 'society', 'computing', 'professionals', ',', 'announced', 'Hinton', ',', 'LeCun', 'Bengio', 'year', '’', 'Turing', 'Award', 'work', 'neural', 'networks', '.', 'The', 'Turing', 'Award', ',', 'introduced', '1966', ',', 'often', 'called', 'Nobel', 'Prize', 'computing', ',', 'includes', '$', '1', 'million', 'prize', ',', 'three', 'scientists', 'share', '.']\n"
     ]
    }
   ],
   "source": [
    "non_stop_w = [w for w in word_token if w not in stop_w]\n",
    "print(\"Words after removing stop words: \\n\\n\", non_stop_w)"
   ]
  },
  {
   "cell_type": "markdown",
   "id": "7d123bab",
   "metadata": {},
   "source": [
    "## Stemming"
   ]
  },
  {
   "cell_type": "raw",
   "id": "6bd7e88e",
   "metadata": {},
   "source": [
    "Stemming is the process of reducing a word to its base or root form, which is called the stem."
   ]
  },
  {
   "cell_type": "raw",
   "id": "0beecafc",
   "metadata": {},
   "source": [
    "stemming algorithms can sometimes produce incorrect stems or stem words that are not actually words in the language. This is because they apply a set of rules to the words, rather than considering the context in which they appear."
   ]
  },
  {
   "cell_type": "code",
   "execution_count": 14,
   "id": "60df7e72",
   "metadata": {},
   "outputs": [],
   "source": [
    "from nltk.stem import PorterStemmer\n",
    "\n",
    "port_stem = PorterStemmer()"
   ]
  },
  {
   "cell_type": "raw",
   "id": "b0bbcb76",
   "metadata": {},
   "source": [
    "Lemmatizing is the process of reducing a word to its base or dictionary form, which is called the lemma. Unlike stemming, lemmatizing takes into account the context in which the word appears and uses morphological analysis to determine the lemma."
   ]
  },
  {
   "cell_type": "code",
   "execution_count": 15,
   "id": "96b6587b",
   "metadata": {},
   "outputs": [
    {
     "name": "stdout",
     "output_type": "stream",
     "text": [
      "Words in passage after removing stop words: \n",
      "\n",
      " ['On', 'Wednesday', ',', 'Association', 'Computing', 'Machinery', ',', 'world', '’', 'largest', 'society', 'computing', 'professionals', ',', 'announced', 'Hinton', ',', 'LeCun', 'Bengio', 'year', '’', 'Turing', 'Award', 'work', 'neural', 'networks', '.', 'The', 'Turing', 'Award', ',', 'introduced', '1966', ',', 'often', 'called', 'Nobel', 'Prize', 'computing', ',', 'includes', '$', '1', 'million', 'prize', ',', 'three', 'scientists', 'share', '.'] \n",
      "\n",
      "\n",
      "Stem words: \n",
      "\n",
      " ['on', 'wednesday', ',', 'associ', 'comput', 'machineri', ',', 'world', '’', 'largest', 'societi', 'comput', 'profession', ',', 'announc', 'hinton', ',', 'lecun', 'bengio', 'year', '’', 'ture', 'award', 'work', 'neural', 'network', '.', 'the', 'ture', 'award', ',', 'introduc', '1966', ',', 'often', 'call', 'nobel', 'prize', 'comput', ',', 'includ', '$', '1', 'million', 'prize', ',', 'three', 'scientist', 'share', '.']\n"
     ]
    }
   ],
   "source": [
    "stemmed_words = []\n",
    "\n",
    "for w in non_stop_w:\n",
    "    stemmed_words.append(port_stem.stem(w))\n",
    "    \n",
    "print(\"Words in passage after removing stop words: \\n\\n\",non_stop_w,\"\\n\\n\")\n",
    "print(\"Stem words: \\n\\n\", stemmed_words)"
   ]
  },
  {
   "cell_type": "markdown",
   "id": "24ba78b1",
   "metadata": {},
   "source": [
    "## Lemmatizing"
   ]
  },
  {
   "cell_type": "raw",
   "id": "b82f6c17",
   "metadata": {},
   "source": [
    "Lemmatizing is the process of reducing a word to its base or dictionary form, which is called the lemma. Unlike stemming, lemmatizing takes into account the context in which the word appears and uses morphological analysis to determine the lemma"
   ]
  },
  {
   "cell_type": "code",
   "execution_count": 27,
   "id": "6c5c7227",
   "metadata": {},
   "outputs": [
    {
     "name": "stdout",
     "output_type": "stream",
     "text": [
      "['On', 'Wednesday', ',', 'Association', 'Computing', 'Machinery', ',', 'world', '’', 'largest', 'society', 'computing', 'professional', ',', 'announced', 'Hinton', ',', 'LeCun', 'Bengio', 'year', '’', 'Turing', 'Award', 'work', 'neural', 'network', '.', 'The', 'Turing', 'Award', ',', 'introduced', '1966', ',', 'often', 'called', 'Nobel', 'Prize', 'computing', ',', 'includes', '$', '1', 'million', 'prize', ',', 'three', 'scientist', 'share', '.']\n"
     ]
    }
   ],
   "source": [
    "from nltk.stem.wordnet import WordNetLemmatizer\n",
    "\n",
    "lem = WordNetLemmatizer()\n",
    "\n",
    "lemm_words = []\n",
    "\n",
    "for i in range(len(non_stop_w)):\n",
    "    lemm_words.append(lem.lemmatize(non_stop_w[i]))\n",
    "    \n",
    "print(lemm_words)"
   ]
  },
  {
   "cell_type": "markdown",
   "id": "4353acb8",
   "metadata": {},
   "source": [
    "## Parts of speech Tagging"
   ]
  },
  {
   "cell_type": "code",
   "execution_count": 30,
   "id": "3a1ef364",
   "metadata": {},
   "outputs": [
    {
     "name": "stdout",
     "output_type": "stream",
     "text": [
      "[('On', 'IN'), ('Wednesday', 'NNP'), (',', ','), ('the', 'DT'), ('Association', 'NNP'), ('for', 'IN'), ('Computing', 'VBG'), ('Machinery', 'NNP'), (',', ','), ('the', 'DT'), ('world', 'NN'), ('’', 'NNP'), ('s', 'RB'), ('largest', 'JJS'), ('society', 'NN'), ('of', 'IN'), ('computing', 'VBG'), ('professionals', 'NNS'), (',', ','), ('announced', 'VBD'), ('that', 'IN'), ('Hinton', 'NNP'), (',', ','), ('LeCun', 'NNP'), ('and', 'CC'), ('Bengio', 'NNP'), ('had', 'VBD'), ('won', 'VBN'), ('this', 'DT'), ('year', 'NN'), ('’', 'VBZ'), ('s', 'JJ'), ('Turing', 'NNP'), ('Award', 'NNP'), ('for', 'IN'), ('their', 'PRP$'), ('work', 'NN'), ('on', 'IN'), ('neural', 'JJ'), ('networks', 'NNS'), ('.', '.'), ('The', 'DT'), ('Turing', 'NNP'), ('Award', 'NNP'), (',', ','), ('which', 'WDT'), ('was', 'VBD'), ('introduced', 'VBN'), ('in', 'IN'), ('1966', 'CD'), (',', ','), ('is', 'VBZ'), ('often', 'RB'), ('called', 'VBN'), ('the', 'DT'), ('Nobel', 'NNP'), ('Prize', 'NNP'), ('of', 'IN'), ('computing', 'NN'), (',', ','), ('and', 'CC'), ('it', 'PRP'), ('includes', 'VBZ'), ('a', 'DT'), ('$', '$'), ('1', 'CD'), ('million', 'CD'), ('prize', 'NN'), (',', ','), ('which', 'WDT'), ('the', 'DT'), ('three', 'CD'), ('scientists', 'NNS'), ('will', 'MD'), ('share', 'NN'), ('.', '.')]\n"
     ]
    }
   ],
   "source": [
    "from nltk import pos_tag\n",
    "pos_tagged_words = pos_tag(word_token)\n",
    "\n",
    "print(pos_tagged_words)"
   ]
  },
  {
   "cell_type": "raw",
   "id": "348e1ded",
   "metadata": {},
   "source": [
    "Here are the possible POS tags returned by the pos_tag function in NLT\n",
    "CC: coordinating conjunction\n",
    "CD: cardinal digit\n",
    "DT: determiner\n",
    "EX: existential there\n",
    "FW: foreign word\n",
    "IN: preposition/subordinating conjunction\n",
    "JJ: adjective\n",
    "JJR: adjective, comparative\n",
    "JJS: adjective, superlative\n",
    "LS: list marker\n",
    "MD: modal\n",
    "NN: noun, singular\n",
    "NNS: noun, plural\n",
    "NNP: proper noun, singular\n",
    "NNPS: proper noun, plural\n",
    "PDT: predeterminer\n",
    "POS: possessive ending\n",
    "PRP: personal pronoun\n",
    "PRP$: possessive pronoun\n",
    "RB: adverb\n",
    "RBR: adverb, comparative\n",
    "RBS: adverb, superlative\n",
    "RP: particle\n",
    "TO: to\n",
    "UH: interjection\n",
    "VB: verb, base form\n",
    "VBD: verb, past tense\n",
    "VBG: verb, gerund/present participle\n",
    "VBN: verb, past participle\n",
    "VBP: verb, non-3rd person singular present\n",
    "VBZ: verb, 3rd person singular present\n",
    "WDT: wh-determiner\n",
    "WP: wh-pronoun\n",
    "WP$: possessive wh-pronoun\n",
    "WRB: wh-adverb"
   ]
  },
  {
   "cell_type": "markdown",
   "id": "0e54fc1d",
   "metadata": {},
   "source": [
    "## Frequency disttibution plots"
   ]
  },
  {
   "cell_type": "code",
   "execution_count": 31,
   "id": "1f6b0ea9",
   "metadata": {},
   "outputs": [
    {
     "data": {
      "text/plain": [
       "FreqDist({',': 8, 'the': 4, 'for': 2, '’': 2, 's': 2, 'of': 2, 'computing': 2, 'and': 2, 'Turing': 2, 'Award': 2, ...})"
      ]
     },
     "execution_count": 31,
     "metadata": {},
     "output_type": "execute_result"
    }
   ],
   "source": [
    "from nltk.probability import FreqDist\n",
    "fd = FreqDist(word_token)\n",
    "\n",
    "fd"
   ]
  },
  {
   "cell_type": "code",
   "execution_count": 32,
   "id": "bc306e09",
   "metadata": {},
   "outputs": [
    {
     "data": {
      "image/png": "[encoded data removed]",
      "text/plain": [
       "<Figure size 432x288 with 1 Axes>"
      ]
     },
     "metadata": {
      "needs_background": "light"
     },
     "output_type": "display_data"
    },
    {
     "data": {
      "text/plain": [
       "<AxesSubplot:xlabel='Samples', ylabel='Counts'>"
      ]
     },
     "execution_count": 32,
     "metadata": {},
     "output_type": "execute_result"
    }
   ],
   "source": [
    "import matplotlib.pyplot as plt\n",
    "fd.plot()"
   ]
  },
  {
   "cell_type": "code",
   "execution_count": 36,
   "id": "29ebe5a8",
   "metadata": {},
   "outputs": [
    {
     "data": {
      "image/png": "[encoded data removed]",
      "text/plain": [
       "<Figure size 432x288 with 1 Axes>"
      ]
     },
     "metadata": {
      "needs_background": "light"
     },
     "output_type": "display_data"
    },
    {
     "data": {
      "text/plain": [
       "<AxesSubplot:xlabel='Samples', ylabel='Counts'>"
      ]
     },
     "execution_count": 36,
     "metadata": {},
     "output_type": "execute_result"
    }
   ],
   "source": [
    "fd.plot(25)"
   ]
  },
  {
   "cell_type": "code",
   "execution_count": 38,
   "id": "828eb371",
   "metadata": {},
   "outputs": [
    {
     "data": {
      "image/png": "[encoded data removed]",
      "text/plain": [
       "<Figure size 432x288 with 1 Axes>"
      ]
     },
     "metadata": {
      "needs_background": "light"
     },
     "output_type": "display_data"
    },
    {
     "data": {
      "text/plain": [
       "<AxesSubplot:xlabel='Samples', ylabel='Cumulative Counts'>"
      ]
     },
     "execution_count": 38,
     "metadata": {},
     "output_type": "execute_result"
    }
   ],
   "source": [
    "fd.plot(25,cumulative = True)"
   ]
  },
  {
   "cell_type": "code",
   "execution_count": 39,
   "id": "2af9acb2",
   "metadata": {},
   "outputs": [
    {
     "data": {
      "image/png": "[encoded data removed]",
      "text/plain": [
       "<Figure size 432x288 with 1 Axes>"
      ]
     },
     "metadata": {
      "needs_background": "light"
     },
     "output_type": "display_data"
    },
    {
     "data": {
      "text/plain": [
       "<AxesSubplot:xlabel='Samples', ylabel='Counts'>"
      ]
     },
     "execution_count": 39,
     "metadata": {},
     "output_type": "execute_result"
    }
   ],
   "source": [
    "fd_alpha = FreqDist(text)\n",
    "fd_alpha.plot(25)"
   ]
  },
  {
   "cell_type": "code",
   "execution_count": null,
   "id": "f0041693",
   "metadata": {},
   "outputs": [],
   "source": []
  }
 ],
 "metadata": {
  "kernelspec": {
   "display_name": "Python 3 (ipykernel)",
   "language": "python",
   "name": "python3"
  },
  "language_info": {
   "codemirror_mode": {
    "name": "ipython",
    "version": 3
   },
   "file_extension": ".py",
   "mimetype": "text/x-python",
   "name": "python",
   "nbconvert_exporter": "python",
   "pygments_lexer": "ipython3",
   "version": "3.9.12"
  }
 },
 "nbformat": 4,
 "nbformat_minor": 5
}
